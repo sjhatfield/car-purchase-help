{
 "cells": [
  {
   "cell_type": "code",
   "execution_count": 1,
   "metadata": {},
   "outputs": [],
   "source": [
    "import pandas as pd\n",
    "from collections import defaultdict\n",
    "import ast\n",
    "from pathlib import Path\n",
    "import sys\n",
    "sys.path.append(\"..\")\n",
    "from tqdm.notebook import tqdm\n",
    "from car_purchase_help.data_processing import format_raw_df, clean_similar_cars_dict\n",
    "\n",
    "%load_ext autoreload\n",
    "%autoreload 2"
   ]
  },
  {
   "cell_type": "code",
   "execution_count": 2,
   "metadata": {},
   "outputs": [],
   "source": [
    "# https://www.kaggle.com/austinreese/craigslist-carstrucks-data/\n",
    "df = pd.read_csv(Path('../data/vehicles.csv'))\n",
    "df = format_raw_df(df)"
   ]
  },
  {
   "cell_type": "code",
   "execution_count": 3,
   "metadata": {},
   "outputs": [],
   "source": [
    "with open(\"similar_cars.txt\", \"r\") as f:\n",
    "    similar_cars = ast.literal_eval(f.read())"
   ]
  },
  {
   "cell_type": "code",
   "execution_count": 4,
   "metadata": {},
   "outputs": [
    {
     "name": "stdout",
     "output_type": "stream",
     "text": [
      "<class 'dict'>\n"
     ]
    }
   ],
   "source": [
    "clean_similar_cars = clean_similar_cars_dict(similar_cars, df)"
   ]
  },
  {
   "cell_type": "code",
   "execution_count": 5,
   "metadata": {},
   "outputs": [
    {
     "data": {
      "text/plain": [
       "{'audi_a3',\n",
       " 'audi_a4',\n",
       " 'chrysler_300',\n",
       " 'ford_focus',\n",
       " 'honda_civic',\n",
       " 'hyundai_elantra',\n",
       " 'hyundai_sonata',\n",
       " 'infiniti_q50',\n",
       " 'kia_optima',\n",
       " 'kia_stinger',\n",
       " 'lexus_is',\n",
       " 'mazda_3',\n",
       " 'mazda_6',\n",
       " 'subaru_liberty',\n",
       " 'subaru_wrx',\n",
       " 'toyota_camry',\n",
       " 'toyota_corolla',\n",
       " 'volkswagen_passat',\n",
       " 'volvo_s60'}"
      ]
     },
     "execution_count": 5,
     "metadata": {},
     "output_type": "execute_result"
    }
   ],
   "source": [
    "clean_similar_cars['honda_accord']"
   ]
  },
  {
   "cell_type": "code",
   "execution_count": 6,
   "metadata": {},
   "outputs": [
    {
     "data": {
      "text/plain": [
       "{'audi_q3',\n",
       " 'bmw_x1',\n",
       " 'bmw_x2',\n",
       " 'fiat_500x',\n",
       " 'ford_ecosport',\n",
       " 'hyundai_tucson',\n",
       " 'infiniti_qx30',\n",
       " 'jeep_cherokee',\n",
       " 'jeep_compass',\n",
       " 'jeep_renegade',\n",
       " 'jeep_wrangler',\n",
       " 'kia_sorento',\n",
       " 'kia_sportage',\n",
       " 'mazda_3',\n",
       " 'mazda_5',\n",
       " 'mazda_9',\n",
       " 'mini_countryman',\n",
       " 'mitsubishi_outlander',\n",
       " 'mitsubishi_sport',\n",
       " 'nissan_juke',\n",
       " 'nissan_pathfinder',\n",
       " 'subaru_forester',\n",
       " 'subaru_outback',\n",
       " 'toyota_rav4',\n",
       " 'volkswagen_golf',\n",
       " 'volkswagen_tiguan',\n",
       " 'volvo_xc40'}"
      ]
     },
     "execution_count": 6,
     "metadata": {},
     "output_type": "execute_result"
    }
   ],
   "source": [
    "clean_similar_cars['ford_escape']"
   ]
  },
  {
   "cell_type": "code",
   "execution_count": 7,
   "metadata": {},
   "outputs": [],
   "source": [
    "total_similars = 0\n",
    "for values in clean_similar_cars:\n",
    "    total_similars += len(values)\n"
   ]
  },
  {
   "cell_type": "code",
   "execution_count": 8,
   "metadata": {},
   "outputs": [
    {
     "data": {
      "text/plain": [
       "12.121212121212121"
      ]
     },
     "execution_count": 8,
     "metadata": {},
     "output_type": "execute_result"
    }
   ],
   "source": [
    "total_similars / len(clean_similar_cars)"
   ]
  },
  {
   "cell_type": "markdown",
   "metadata": {},
   "source": [
    "On average each car has 12 similar cars listed"
   ]
  },
  {
   "cell_type": "markdown",
   "metadata": {},
   "source": [
    "Finally let's save the cleaned similar cars dictionary so it may be loaded by the web app without needing the dataframe."
   ]
  },
  {
   "cell_type": "code",
   "execution_count": 9,
   "metadata": {},
   "outputs": [],
   "source": [
    "with open('../data/clean_similar_cars.txt', \"w\") as f:\n",
    "    f.write(str(clean_similar_cars))"
   ]
  },
  {
   "cell_type": "code",
   "execution_count": null,
   "metadata": {},
   "outputs": [],
   "source": []
  }
 ],
 "metadata": {
  "kernelspec": {
   "display_name": "Python 3",
   "language": "python",
   "name": "python3"
  },
  "language_info": {
   "codemirror_mode": {
    "name": "ipython",
    "version": 3
   },
   "file_extension": ".py",
   "mimetype": "text/x-python",
   "name": "python",
   "nbconvert_exporter": "python",
   "pygments_lexer": "ipython3",
   "version": "3.6.9"
  }
 },
 "nbformat": 4,
 "nbformat_minor": 4
}
